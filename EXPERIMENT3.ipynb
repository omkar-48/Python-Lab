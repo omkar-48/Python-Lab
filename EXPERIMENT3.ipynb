{
  "nbformat": 4,
  "nbformat_minor": 0,
  "metadata": {
    "colab": {
      "provenance": []
    },
    "kernelspec": {
      "name": "python3",
      "display_name": "Python 3"
    },
    "language_info": {
      "name": "python"
    }
  },
  "cells": [
    {
      "cell_type": "code",
      "execution_count": 2,
      "metadata": {
        "colab": {
          "base_uri": "https://localhost:8080/"
        },
        "id": "fz2vyqFogoqI",
        "outputId": "0e106d49-dcca-4aee-b305-c33662500646"
      },
      "outputs": [
        {
          "output_type": "stream",
          "name": "stdout",
          "text": [
            "Does the employee work on frontend? (yes/no): YES\n",
            "Does the employee work on backend? (yes/no): NO\n",
            "Frontend Developer\n"
          ]
        }
      ],
      "source": [
        "'''\n",
        "General case represents that developer working on\n",
        "frontend cannot work backend development unless he/she is fullstack dev.\n",
        "\n",
        "Write a method named verifier () that checks this condition.\n",
        "\n",
        "The method should check that if frontend is True and backend is True,\n",
        "the method returns Fullstack as string. If one of them is True, it should return\n",
        "the respective desgination, and if none of them are true, it returns,\n",
        "not a developer respetively.\n",
        "'''\n",
        "\n",
        "class Employee:\n",
        "    def __init__ (\n",
        "            self,\n",
        "            designation : str = 'Developer',\n",
        "            frontend : bool = False,\n",
        "            backend : bool = False\n",
        "    ):\n",
        "        self.designation = designation\n",
        "        self.frontend = frontend\n",
        "        self.backend = backend\n",
        "\n",
        "    def __repr__ (self):\n",
        "        return '{}'.format (self.designation, self.frontend, self.backend)\n",
        "\n",
        "    ### Write the your method over here.\n",
        "    def verifier (self):\n",
        "        if self.frontend and self.backend:\n",
        "            return \"Fullstack\"\n",
        "        elif self.frontend:\n",
        "            return \"Frontend Developer\"\n",
        "        elif self.backend:\n",
        "            return \"Backend Developer\"\n",
        "        return \"Not a Developer\"\n",
        "\n",
        "if __name__ == '__main__':\n",
        "\n",
        "    # Call the method here to display output.\n",
        "    fe = input(\"Does the employee work on frontend? (yes/no): \").strip().lower() == \"yes\"\n",
        "    be = input(\"Does the employee work on backend? (yes/no): \").strip().lower() == \"yes\"\n",
        "\n",
        "    firstEmployee = Employee(frontend=fe, backend=be)\n",
        "    print(firstEmployee.verifier())"
      ]
    }
  ]
}