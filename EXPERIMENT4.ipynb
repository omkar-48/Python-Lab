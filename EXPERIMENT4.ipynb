{
  "nbformat": 4,
  "nbformat_minor": 0,
  "metadata": {
    "colab": {
      "provenance": []
    },
    "kernelspec": {
      "name": "python3",
      "display_name": "Python 3"
    },
    "language_info": {
      "name": "python"
    }
  },
  "cells": [
    {
      "cell_type": "code",
      "execution_count": 1,
      "metadata": {
        "colab": {
          "base_uri": "https://localhost:8080/"
        },
        "id": "yJo2JYivLlC9",
        "outputId": "6ef6eee0-816f-4956-b03d-9eef77e9e356"
      },
      "outputs": [
        {
          "output_type": "stream",
          "name": "stdout",
          "text": [
            "Content after writing:\n",
            "Sarvesh is good boy.\n",
            "<_io.TextIOWrapper name='text.txt' mode='r' encoding='UTF-8'>\n",
            "Content after writing:\n",
            "Sarvesh is good boy. He is very kind. \n",
            "<_io.TextIOWrapper name='text.txt' mode='r' encoding='UTF-8'>\n"
          ]
        }
      ],
      "source": [
        "from contextlib import contextmanager\n",
        "import os\n",
        "\n",
        "@contextmanager\n",
        "def genericFileFunction (filename, method):\n",
        "    file = None\n",
        "    if method == \"w\":\n",
        "        file = open (filename, method)\n",
        "        file.write(\"Sarvesh is good boy.\")\n",
        "        file.close ()\n",
        "\n",
        "    if method == \"r\":\n",
        "        file = open (filename, method)\n",
        "        file_content = file.read()\n",
        "        print(file_content)\n",
        "        file.close ()\n",
        "\n",
        "    if method == \"a\":\n",
        "        file = open (filename, method)\n",
        "        file.write(\" He is very kind. \")\n",
        "        file.close()\n",
        "\n",
        "\n",
        "\n",
        "    yield file\n",
        "    if file:\n",
        "        file.close()\n",
        "\n",
        "\n",
        "if __name__ == '__main__':\n",
        "    with genericFileFunction(\"text.txt\", \"w\"):\n",
        "        pass\n",
        "\n",
        "    print(\"Content after writing:\")\n",
        "    with genericFileFunction(\"text.txt\", \"r\") as file_content:\n",
        "        print(file_content)\n",
        "\n",
        "    with genericFileFunction(\"text.txt\", \"a\") as file:\n",
        "        pass\n",
        "\n",
        "    print(\"Content after writing:\")\n",
        "    with genericFileFunction(\"text.txt\", \"r\") as file_content:\n",
        "        print(file_content)\n",
        "\n",
        "\n",
        "    # Remove the pass and call the function to perform write.\n",
        "    # Read the file that was created while writing.\n",
        "    # Make the changes in the file by appending some material.\n",
        "    # Again read the same file.\n",
        "\n",
        "    '''\n",
        "    Print all the output of the function.\n",
        "    For better representation, please use jupyter.\n",
        "    Will also aid in easy maintanence of files for submissions.\n",
        "    '''"
      ]
    }
  ]
}
