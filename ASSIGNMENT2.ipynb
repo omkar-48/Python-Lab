{
  "nbformat": 4,
  "nbformat_minor": 0,
  "metadata": {
    "colab": {
      "provenance": []
    },
    "kernelspec": {
      "name": "python3",
      "display_name": "Python 3"
    },
    "language_info": {
      "name": "python"
    }
  },
  "cells": [
    {
      "cell_type": "markdown",
      "source": [
        "\n",
        "\n",
        "OMKAR PANDHARI UGALMUGALE SE3-48\n",
        "\n",
        "\n",
        "\n",
        "\n",
        "\n",
        "\n",
        "\n",
        "\n"
      ],
      "metadata": {
        "id": "_cf26IjyrTzh"
      }
    },
    {
      "cell_type": "code",
      "source": [
        "import re\n",
        "\n",
        "def extract_critical_errors(log_data: str) -> list[tuple]:\n",
        "    pattern = re.compile(r'\\[(\\d{4}-\\d{2}-\\d{2} \\d{2}:\\d{2}:\\d{2})\\] \\[ERROR\\] \\[(\\w+)\\] (.*?\\b(?:25[0-5]|2[0-4]\\d|1?\\d{1,2})\\.(?:25[0-5]|2[0-4]\\d|1?\\d{1,2})\\.(?:25[0-5]|2[0-4]\\d|1?\\d{1,2})\\.(?:25[0-5]|2[0-4]\\d|1?\\d{1,2})\\b.*?\\b0x[A-Fa-f0-9]{8}\\b.*?)$', re.MULTILINE)\n",
        "\n",
        "\n",
        "    matches = pattern.findall(log_data)\n",
        "\n",
        "    return [(timestamp, module, message) for timestamp, module, message in matches]\n",
        "\n",
        "\n",
        "log_data = \"\"\"\n",
        "[2025-02-10 14:23:01] [INFO] [Auth_Module] User login successful.\n",
        "[2025-02-10 15:45:32] [ERROR] [Net_Module] Connection timeout from 192.168.1.10. Error Code: 0xAB12CD34\n",
        "[2025-02-10 16:01:10] [WARN] [Disk_Module] Low disk space warning.\n",
        "[2025-02-10 17:12:05] [ERROR] [Security_Module] Unauthorized access detected from 10.0.0.5. Error Code: 0xDEADBEEF\n",
        "\"\"\"\n",
        "\n",
        "\n",
        "print(extract_critical_errors(log_data))\n"
      ],
      "metadata": {
        "colab": {
          "base_uri": "https://localhost:8080/"
        },
        "id": "IanQRqPurUql",
        "outputId": "392d087a-46ba-488b-f90e-85138ce989b4"
      },
      "execution_count": 1,
      "outputs": [
        {
          "output_type": "stream",
          "name": "stdout",
          "text": [
            "[('2025-02-10 15:45:32', 'Net_Module', 'Connection timeout from 192.168.1.10. Error Code: 0xAB12CD34'), ('2025-02-10 17:12:05', 'Security_Module', 'Unauthorized access detected from 10.0.0.5. Error Code: 0xDEADBEEF')]\n"
          ]
        }
      ]
    }
  ]
}