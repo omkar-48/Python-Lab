{
  "nbformat": 4,
  "nbformat_minor": 0,
  "metadata": {
    "colab": {
      "provenance": []
    },
    "kernelspec": {
      "name": "python3",
      "display_name": "Python 3"
    },
    "language_info": {
      "name": "python"
    }
  },
  "cells": [
    {
      "cell_type": "markdown",
      "source": [
        "Omkar Ugalmugale\n",
        "SE3-48"
      ],
      "metadata": {
        "id": "Or-aCTMJacUx"
      }
    },
    {
      "cell_type": "code",
      "source": [
        "import numpy as np\n",
        "import math\n",
        "\n",
        "# Exploring basic NumPy methods (without array methods)\n",
        "\n",
        "# Mathematical Constants\n",
        "print(\"Pi:\", np.pi)\n",
        "print(\"Euler's Number:\", np.e)\n",
        "\n",
        "# Trigonometric Functions\n",
        "angle_rad = np.deg2rad(45)  # Convert 45 degrees to radians\n",
        "print(\"Sin(45 degrees):\", np.sin(angle_rad))\n",
        "print(\"Cos(45 degrees):\", np.cos(angle_rad))\n",
        "print(\"Tan(45 degrees):\", np.tan(angle_rad))\n",
        "\n",
        "# Exponential and Logarithmic Functions\n",
        "print(\"Exponential of 2:\", np.exp(2))\n",
        "print(\"Natural Log of 10:\", np.log(10))\n",
        "print(\"Log base 10 of 100:\", np.log10(100))\n",
        "print(\"Log base 2 of 8:\", np.log2(8))\n",
        "\n",
        "# Rounding Functions\n",
        "print(\"Ceil of 4.3:\", np.ceil(4.3))\n",
        "print(\"Floor of 4.7:\", np.floor(4.7))\n",
        "print(\"Round 4.5:\", np.round(4.5))\n",
        "\n",
        "# Random Number Generation\n",
        "print(\"Random Number [0,1]:\", np.random.rand())\n",
        "print(\"Random Integer [1,10]:\", np.random.randint(1, 10))\n",
        "\n",
        "# Statistical Functions\n",
        "data = [1, 2, 3, 4, 5, 6, 7, 8, 9]\n",
        "print(\"Mean:\", np.mean(data))\n",
        "print(\"Median:\", np.median(data))\n",
        "print(\"Standard Deviation:\", np.std(data))\n",
        "print(\"Variance:\", np.var(data))\n",
        "\n",
        "# Greatest Common Divisor (GCD) and Least Common Multiple (LCM)\n",
        "print(\"GCD of 24 and 36:\", np.gcd(24, 36))\n",
        "print(\"LCM of 6 and 8:\", np.lcm(6, 8))\n",
        "\n",
        "# Factorial and Power\n",
        "print(\"Factorial of 5:\", math.factorial(5))\n",
        "print(\"2 to the power of 3:\", np.power(2, 3))"
      ],
      "metadata": {
        "colab": {
          "base_uri": "https://localhost:8080/"
        },
        "id": "tbYmCpP8agoZ",
        "outputId": "eb241752-2cb9-44ff-fd5a-6b5d16da21fd"
      },
      "execution_count": 3,
      "outputs": [
        {
          "output_type": "stream",
          "name": "stdout",
          "text": [
            "Pi: 3.141592653589793\n",
            "Euler's Number: 2.718281828459045\n",
            "Sin(45 degrees): 0.7071067811865475\n",
            "Cos(45 degrees): 0.7071067811865476\n",
            "Tan(45 degrees): 0.9999999999999999\n",
            "Exponential of 2: 7.38905609893065\n",
            "Natural Log of 10: 2.302585092994046\n",
            "Log base 10 of 100: 2.0\n",
            "Log base 2 of 8: 3.0\n",
            "Ceil of 4.3: 5.0\n",
            "Floor of 4.7: 4.0\n",
            "Round 4.5: 4.0\n",
            "Random Number [0,1]: 0.14645166942451837\n",
            "Random Integer [1,10]: 5\n",
            "Mean: 5.0\n",
            "Median: 5.0\n",
            "Standard Deviation: 2.581988897471611\n",
            "Variance: 6.666666666666667\n",
            "GCD of 24 and 36: 12\n",
            "LCM of 6 and 8: 24\n",
            "Factorial of 5: 120\n",
            "2 to the power of 3: 8\n"
          ]
        }
      ]
    },
    {
      "cell_type": "code",
      "source": [],
      "metadata": {
        "id": "_1arn2-_bU1p"
      },
      "execution_count": null,
      "outputs": []
    }
  ]
}